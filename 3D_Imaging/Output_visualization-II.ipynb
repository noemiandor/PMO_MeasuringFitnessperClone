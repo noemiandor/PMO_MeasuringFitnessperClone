{
 "cells": [
  {
   "cell_type": "code",
   "execution_count": 3,
   "id": "3dccda4d-aa5d-4ad4-a2f9-804357564ccb",
   "metadata": {},
   "outputs": [],
   "source": [
    "import matplotlib.pyplot as plt\n",
    "from PIL import Image\n",
    "import numpy as np\n",
    "import tifffile\n",
    "from tifffile import imread\n",
    "from matplotlib.backends.backend_pdf import PdfPages\n",
    "import glob, os, re\n",
    "\n",
    "from aicsimageio import AICSImage, imread, writers\n",
    "from skimage import color, io"
   ]
  },
  {
   "cell_type": "markdown",
   "id": "c566dca1-2c59-4b3a-bcba-b71dbd821246",
   "metadata": {},
   "source": [
    "# visualize the original fluro image with predicted tiff image"
   ]
  },
  {
   "cell_type": "code",
   "execution_count": null,
   "id": "fef169be-9400-4b5e-9dfc-d2a830f93dcb",
   "metadata": {},
   "outputs": [],
   "source": [
    "Fluro_img= AICSImage('tr_1/One-Ome_tif/1hr_Nuc_0um_V_1e5_630X2.ome.tif') # path of the original_fluro-img that you want to visualize\n",
    "\n",
    "FL_1 = Fluro_img.get_image_data()\n",
    "imfl_image = np.squeeze(np.squeeze(FL_1, axis=0),axis=0)\n",
    "#  select one of the two sub-arrays[2, 70, 1024, 1024)]\n",
    "New_imgfl = imfl_image[1]\n",
    "New_imgfl.shape\n",
    "\n",
    "predict_1 = AICSImage('predictions/tifs/0_prediction_c0.model.p.tif')   # path of the predict-img from the model that you want to visualize\n",
    "P_0 = predict_0.get_image_data()\n",
    "P_image = np.squeeze(np.squeeze(np.squeeze(P_0, axis=0),axis=1),axis=0)\n",
    "for i in range(0, 1):\n",
    "  \n",
    "  fig, axes = plt.subplots(1, 2)\n",
    "  fig.set_size_inches(15,8 )\n",
    "  # Plot sample and reconstruciton\n",
    "  axes[0].imshow(np.max(P_image,axis=0), cmap='gray')\n",
    "  axes[0].set_title('predicted_image')\n",
    "  axes[1].imshow(np.max(imfl_image[1],axis=0), cmap='gray')\n",
    "  axes[1].set_title('Original_Fluro_img')\n",
    "    \n",
    "  plt.show()"
   ]
  },
  {
   "cell_type": "markdown",
   "id": "36d2ca8f-1554-4ed2-9a2f-76bf561f9aaa",
   "metadata": {},
   "source": [
    "# visualize the original result with predicted tiff images"
   ]
  },
  {
   "cell_type": "code",
   "execution_count": null,
   "id": "1e2de830-a65d-4948-aa74-c73d0892e808",
   "metadata": {},
   "outputs": [],
   "source": [
    "\n",
    "Fluro_img= AICSImage('tr_1/One-Ome_tif/1hr_Nuc_0um_V_1e5_630X2.ome.tif') # path of the original_fluro-img that you want to visualize\n",
    "FL_1 = Fluro_img.get_image_data()\n",
    "imfl_image = np.squeeze(np.squeeze(FL_1, axis=0),axis=0)\n",
    "\n",
    "predict_1 = AICSImage('predictions/tifs/0_prediction_c0.model.p.tif')\n",
    "P_1 = predict_1.get_image_data()\n",
    "signal_1 = AICSImage('predictions/tifs/0_signal.tif')\n",
    "S_1 =signal_1.get_image_data()\n",
    "target_1 = AICSImage('predictions/tifs/0_target.tif')\n",
    "T_1 = target_1.get_image_data()\n",
    "\n",
    "\n",
    "P1_image = np.squeeze(np.squeeze(np.squeeze(P_1, axis=0),axis=1),axis=0)\n",
    "S1_image = np.squeeze(np.squeeze(np.squeeze(S_1, axis=0),axis=1),axis=0)\n",
    "T1_image = np.squeeze(np.squeeze(np.squeeze(T_1, axis=0),axis=1),axis=0)\n",
    "\n",
    "for j in range(0, 1):\n",
    "  \n",
    "  fig, axes = plt.subplots(1, 4)\n",
    "  fig.set_size_inches(15,8 )\n",
    "  # Plot sample and reconstruciton\n",
    "  axes[0].imshow(np.max(imfl_image[1],axis=0), cmap='gray')\n",
    "  axes[0].set_title('Original_Fluro_img')\n",
    "  axes[1].imshow(np.max(P1_image,axis=0), cmap='gray')\n",
    "  axes[1].set_title('predicted_image')\n",
    "  axes[2].imshow(np.max(S1_image,axis=0), cmap='gray')\n",
    "  axes[2].set_title('Signal')\n",
    "  axes[3].imshow(np.max(T1_image,axis=0), cmap='gray')\n",
    "  axes[3].set_title('Target')\n",
    "\n",
    "  plt.show()"
   ]
  },
  {
   "cell_type": "markdown",
   "id": "a646cf93-0e0a-4b6e-b75f-6e93a1cca395",
   "metadata": {},
   "source": [
    "# visualize the predicting result "
   ]
  },
  {
   "cell_type": "code",
   "execution_count": null,
   "id": "2cd3f12f-86af-4edd-b749-0701e5773981",
   "metadata": {},
   "outputs": [],
   "source": [
    "predict_1 = AICSImage('predictions/tifs/0_prediction_c0.model.p.tif')\n",
    "P_1 = predict_1.get_image_data()\n",
    "signal_1 = AICSImage('predictions/tifs/0_signal.tif')\n",
    "S_1 =signal_1.get_image_data()\n",
    "target_1 = AICSImage('predictions/tifs/0_target.tif')\n",
    "T_1 = target_1.get_image_data()\n",
    "\n",
    "\n",
    "P1_image = np.squeeze(np.squeeze(np.squeeze(P_1, axis=0),axis=1),axis=0)\n",
    "S1_image = np.squeeze(np.squeeze(np.squeeze(S_1, axis=0),axis=1),axis=0)\n",
    "T1_image = np.squeeze(np.squeeze(np.squeeze(T_1, axis=0),axis=1),axis=0)\n",
    "\n",
    "for j in range(0, 1):\n",
    "  \n",
    "  fig, axes = plt.subplots(1, 3)\n",
    "  fig.set_size_inches(15,8 )\n",
    "  # Plot sample and reconstruciton\n",
    "  axes[0].imshow(np.max(P1_image,axis=0), cmap='gray')\n",
    "  axes[0].set_title('predicted_image')\n",
    "  axes[1].imshow(np.max(S1_image,axis=0), cmap='gray')\n",
    "  axes[1].set_title('Signal')\n",
    "  axes[2].imshow(np.max(T1_image,axis=0), cmap='gray')\n",
    "  axes[2].set_title('Target')\n",
    "\n",
    "  plt.show()"
   ]
  }
 ],
 "metadata": {
  "kernelspec": {
   "display_name": "Python 3.7",
   "language": "python",
   "name": "python3"
  },
  "language_info": {
   "codemirror_mode": {
    "name": "ipython",
    "version": 3
   },
   "file_extension": ".py",
   "mimetype": "text/x-python",
   "name": "python",
   "nbconvert_exporter": "python",
   "pygments_lexer": "ipython3",
   "version": "3.7.0"
  }
 },
 "nbformat": 4,
 "nbformat_minor": 5
}
