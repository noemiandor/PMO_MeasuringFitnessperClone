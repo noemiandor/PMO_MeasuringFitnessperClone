{
 "cells": [
  {
   "cell_type": "code",
   "execution_count": 1,
   "id": "5abbf62e-daf5-49b6-bcff-46ce43cffcd2",
   "metadata": {},
   "outputs": [
    {
     "name": "stdout",
     "output_type": "stream",
     "text": [
      "2021-11-12 12:01:43,004 [INFO] WRITING LOG OUTPUT TO /ihome/zsiddiqu/singhp/.cellpose/run.log\n"
     ]
    }
   ],
   "source": [
    "!pip install aicsimageio\n"
   ]
  },
  {
   "cell_type": "code",
   "execution_count": null,
   "id": "8319e097-31d4-4335-ac50-59182be3426a",
   "metadata": {},
   "outputs": [],
   "source": [
    "import numpy as np\n",
    "import cv2 as cv\n",
    "import time, os, sys\n",
    "from urllib.parse import urlparse\n",
    "import matplotlib.pyplot as plt\n",
    "import matplotlib as mpl\n",
    "%matplotlib inline\n",
    "mpl.rcParams['figure.dpi'] = 300\n",
    "from cellpose import utils, io\n"
   ]
  },
  {
   "cell_type": "code",
   "execution_count": null,
   "id": "3e4867df-a9cb-493d-9f0f-d04d0f14aa2d",
   "metadata": {},
   "outputs": [],
   "source": [
    "import matplotlib.pyplot as plt\n",
    "from PIL import Image\n",
    "import numpy as np\n",
    "import tifffile\n",
    "from tifffile import imread\n",
    "from matplotlib.backends.backend_pdf import PdfPages\n",
    "import glob, os, re\n",
    "import matplotlib.pyplot as plt\n",
    "from PIL import Image\n",
    "import numpy as np\n",
    "import tifffile\n",
    "from tifffile import imread\n",
    "from matplotlib.backends.backend_pdf import PdfPages\n",
    "import glob, os, re\n",
    "\n",
    "from aicsimageio import AICSImage, imread, writers\n",
    "from skimage import color, io"
   ]
  },
  {
   "cell_type": "code",
   "execution_count": null,
   "id": "5f52786a-fabe-4144-93c0-4d2e6b87eaf6",
   "metadata": {},
   "outputs": [],
   "source": [
    "test_image = AICSImage('tr_1/One-Ome_tif/fluroscense_X3_24hr_Ome.ome.tif')\n",
    "arr2 = test_image.get_image_data()\n",
    "arr2.shape\n",
    "im_image = np.squeeze(np.squeeze(np.squeeze(arr2, axis=0),axis=1),axis=0)\n",
    "im_image.shape\n",
    "image = im_image[0, :, :]\n",
    "print(image.shape)"
   ]
  },
  {
   "cell_type": "code",
   "execution_count": null,
   "id": "d8ba8866-bb76-4bbf-bc22-09b0b236c537",
   "metadata": {},
   "outputs": [],
   "source": [
    "# RUN CELLPOSE\n",
    "\n",
    "from cellpose import models, io\n",
    "\n",
    "# DEFINE CELLPOSE MODEL\n",
    "# model_type='cyto' or model_type='nuclei'\n",
    "model = models.Cellpose(gpu=True, model_type='nuclei')"
   ]
  },
  {
   "cell_type": "code",
   "execution_count": null,
   "id": "3ff8d992-a07f-4bf8-832e-69f9d0efe5d0",
   "metadata": {},
   "outputs": [],
   "source": [
    "#for chan, filename in zip(channels, files):\n",
    " #   img = io.imread(filename)\n",
    "#masks, flows, styles, diams = model.eval(im_signal, diameter=None, channels=[0,0], do_3D=True)\n",
    "\n",
    "#masks, flows, styles, diams = model.eval(im_signal, diameter=None, channels=[0,0], do_3D=False ,stitch_threshold>0)\n",
    "masks, flows, styles, diams = model.eval(image, diameter=None, channels=[0,0], do_3D=True)#, stitch_threshold = 80)\n",
    "\n",
    "#mask, flow, style, diam = model.eval(im_signal, diameter=None, channels=[0,0], do_3D=False,stitch_threshold = 2)\n"
   ]
  },
  {
   "cell_type": "code",
   "execution_count": null,
   "id": "389c0668-3cac-4cfc-b3f9-cd564dc034a8",
   "metadata": {},
   "outputs": [],
   "source": [
    "from cellpose import plot\n",
    "fig = plt.figure(figsize=(12,5))\n",
    "plot.show_segmentation(fig, image , masks, flows, channels=[0,0])\n",
    "plt.tight_layout()\n",
    "plt.show()"
   ]
  }
 ],
 "metadata": {
  "kernelspec": {
   "display_name": "Python 3.7",
   "language": "python",
   "name": "python3"
  },
  "language_info": {
   "codemirror_mode": {
    "name": "ipython",
    "version": 3
   },
   "file_extension": ".py",
   "mimetype": "text/x-python",
   "name": "python",
   "nbconvert_exporter": "python",
   "pygments_lexer": "ipython3",
   "version": "3.7.0"
  }
 },
 "nbformat": 4,
 "nbformat_minor": 5
}
