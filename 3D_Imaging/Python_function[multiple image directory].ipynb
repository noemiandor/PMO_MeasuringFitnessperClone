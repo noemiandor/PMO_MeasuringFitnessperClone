{
 "cells": [
  {
   "cell_type": "markdown",
   "id": "525a7f52-d472-4687-8346-917af142f239",
   "metadata": {},
   "source": [
    "# Python function to create ome.tif files form multiple [z-stack]directories \n"
   ]
  },
  {
   "cell_type": "code",
   "execution_count": 3,
   "id": "0ca6f94c-17ff-462c-be04-58dabb0bfcaa",
   "metadata": {},
   "outputs": [],
   "source": [
    "import matplotlib.pyplot as plt\n",
    "from PIL import Image\n",
    "import numpy as np\n",
    "import tifffile\n",
    "from tifffile import imread\n",
    "from matplotlib.backends.backend_pdf import PdfPages\n",
    "import glob, os, re\n",
    "\n",
    "from aicsimageio import AICSImage, imread, writers\n",
    "from skimage import color, io"
   ]
  },
  {
   "cell_type": "code",
   "execution_count": 4,
   "id": "ffdb473a-89ee-4d82-a0f2-87b62b03b091",
   "metadata": {},
   "outputs": [],
   "source": [
    "def Get_ome_tif_file(files = glob.glob('Fch+Bch/24hr_0uM_V_630X1/*.tif') , SaveIMG = \"tr_1/One-Ome_tif/24hr_0uM_V_630X1.ome.tif\"):\n",
    "\n",
    "    \n",
    "    files.sort()\n",
    "    Fluro_images = []\n",
    "    Grayscale_Fluro_images = []\n",
    "    Brightfield_images = []\n",
    "\n",
    "    for i in range(0, len(files),3):\n",
    "        Fluro_images.append(files[i])\n",
    "    #print(Fluro_images)  ## print_out fluroscence image\n",
    "\n",
    "    #Ch0 = res[0::2]\n",
    "    for i in range(1, len(files),3):\n",
    "        Grayscale_Fluro_images.append(files[i])\n",
    "    #print(Grayscale_Fluro_images) ##print_out grayscale_image\n",
    "\n",
    "    for i in range(2, len(files),3):\n",
    "        Brightfield_images.append(files[i])\n",
    "    #print(Brightfield_images)   \n",
    "\n",
    "    files = Grayscale_Fluro_images\n",
    "    z_indicator = '_z(\\d\\d)'\n",
    "    regex_z = re.compile(z_indicator)\n",
    "\n",
    "    def sort_key(file):\n",
    "        return regex_z.search(file).group(1)\n",
    "\n",
    "    files.sort(key=sort_key)\n",
    "    brightfld_array = np.expand_dims(np.stack([color.rgb2gray(tifffile.imread(file)) for file in files]), axis=0) # stack all the sorted tiffiles and expand dim to create a \"channel dim\"\n",
    "    # z-score normalize array.\n",
    "    brightfld_array.shape\n",
    "\n",
    "    files = Fluro_images\n",
    "    z_indicator = '_z(\\d\\d)'\n",
    "    regex_z = re.compile(z_indicator)\n",
    "\n",
    "    def sort_key(file):\n",
    "        return regex_z.search(file).group(1)\n",
    "\n",
    "    files.sort(key=sort_key)\n",
    "    fluroscense_array = np.expand_dims(np.stack([color.rgb2gray(tifffile.imread(file)) for file in files]), axis=0) # stack all the sorted tiffiles and expand dim to create a \"channel dim\"\n",
    "    # z-score normalize array.\n",
    "    fluroscense_array.shape #print(X3.shape)\n",
    "    \n",
    "    Mix_ch_24hr_X3= np.concatenate((fluroscense_array, brightfld_array ), axis=0)\n",
    "    \n",
    "    with writers.ome_tiff_writer.OmeTiffWriter(SaveIMG, overwrite_file=True) as writer:\n",
    "        writer.save(Mix_ch_24hr_X3, dimension_order=\"CZYX\", channel_names=['fluroscense','brightfield']) \n",
    "    \n",
    "\n",
    "    print(\"\\n\\n2 Channel(BF,Flu)-Array[CZYX]\")\n",
    "    return  Mix_ch_24hr_X3.shape"
   ]
  },
  {
   "cell_type": "code",
   "execution_count": 5,
   "id": "3f06638d-0797-4e2e-9494-69f2ab6162b3",
   "metadata": {},
   "outputs": [
    {
     "name": "stdout",
     "output_type": "stream",
     "text": [
      "\n",
      "\n",
      "2 Channel(BF,Flu)-Array[CZYX]\n"
     ]
    },
    {
     "data": {
      "text/plain": [
       "(2, 70, 1024, 1024)"
      ]
     },
     "execution_count": 5,
     "metadata": {},
     "output_type": "execute_result"
    }
   ],
   "source": [
    "# create the training set -- by converting desire image directory into ome.tif \n",
    "# call the function\n",
    "# 1. prove the directory path and saved_image name \"XYZ.ome.tif\"\n",
    "\n",
    "Get_ome_tif_file(files = glob.glob('Moffitt_Dataset/3hr_0.75Nuc_0um_V_1e5_630X4/*.tif') , SaveIMG = \"tr_1/One-Ome_tif/3hr_0.75Nuc_0um_V_1e5_630X4.ome.tif\")"
   ]
  },
  {
   "cell_type": "code",
   "execution_count": null,
   "id": "92284f60-74cb-4bc1-99c5-6ada9e240cdc",
   "metadata": {},
   "outputs": [],
   "source": []
  }
 ],
 "metadata": {
  "kernelspec": {
   "display_name": "Python 3.7",
   "language": "python",
   "name": "python3"
  },
  "language_info": {
   "codemirror_mode": {
    "name": "ipython",
    "version": 3
   },
   "file_extension": ".py",
   "mimetype": "text/x-python",
   "name": "python",
   "nbconvert_exporter": "python",
   "pygments_lexer": "ipython3",
   "version": "3.7.0"
  }
 },
 "nbformat": 4,
 "nbformat_minor": 5
}
