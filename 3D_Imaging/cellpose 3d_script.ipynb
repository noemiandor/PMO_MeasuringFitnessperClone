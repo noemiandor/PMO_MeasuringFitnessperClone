{
 "cells": [
  {
   "cell_type": "code",
   "execution_count": 1,
   "id": "5abbf62e-daf5-49b6-bcff-46ce43cffcd2",
   "metadata": {},
   "outputs": [
    {
     "name": "stdout",
     "output_type": "stream",
     "text": [
      "2021-11-12 12:01:43,004 [INFO] WRITING LOG OUTPUT TO /ihome/zsiddiqu/singhp/.cellpose/run.log\n"
     ]
    }
   ],
   "source": [
    "!pip install aicsimageio\n"
   ]
  },
  {
   "cell_type": "markdown",
   "id": "9580cca8-9c50-4062-ad32-130f409d54db",
   "metadata": {},
   "source": [
    "# Read the tif_predicted file"
   ]
  },
  {
   "cell_type": "code",
   "execution_count": null,
   "id": "38baafa5-c463-4363-91cb-172f49af6378",
   "metadata": {},
   "outputs": [],
   "source": [
    "import skimage.io\n",
    "\n",
    "data = skimage.io.imread('prediction3.tif')\n",
    "print(data.shape) # shape should be in the order \"nplanes x channels x nY x nX or as nplanes x nY x nX\" from cellpse documentation [ex:70x518x518]\n",
    "\n",
    "data = skimage.io.imread('prediction1.tif')\n",
    "print(data.shape)\n",
    "#(70, 518, 518)"
   ]
  },
  {
   "cell_type": "code",
   "execution_count": null,
   "id": "fb883345-5675-45f4-9a1c-42fdefb9aa5b",
   "metadata": {},
   "outputs": [],
   "source": [
    "import numpy as np\n",
    "import cv2 as cv\n",
    "import time, os, sys\n",
    "from urllib.parse import urlparse\n",
    "import matplotlib.pyplot as plt\n",
    "import matplotlib as mpl\n",
    "%matplotlib inline\n",
    "mpl.rcParams['figure.dpi'] = 300\n",
    "from cellpose import utils, io\n",
    "\n",
    "import matplotlib.pyplot as plt"
   ]
  },
  {
   "cell_type": "markdown",
   "id": "01e94377-0e34-4823-8eaf-3c9760d17a2d",
   "metadata": {},
   "source": [
    "# Run cellpose function"
   ]
  },
  {
   "cell_type": "code",
   "execution_count": null,
   "id": "3907ff2d-97d1-47c8-8fab-1f0b0c8b6061",
   "metadata": {},
   "outputs": [],
   "source": [
    "from cellpose import models\n",
    "import skimage.io\n",
    "\n",
    "# model_type='cyto' or model_type='nuclei'\n",
    "model = models.Cellpose(gpu=False, model_type='nuclei')\n",
    "\n",
    "#load the predicted images in the files\n",
    "\n",
    "files = ['prediction3.tif', 'prediction1.tif']\n",
    "\n",
    "for f in files:\n",
    "    imgs = skimage.io.imread(f)\n",
    "    masks, flows, styles, diams = model.eval(imgs, diameter=None, channels=[0,0], do_3D=True) #3D settings\n",
    "    #masks, flows, styles, diams = model.eval(signal, diameter=None, channels=[0,0], do_3D=False ,stitch_threshold>0)\n",
    "   \n",
    "\n",
    "    # save results so you can load in gui\n",
    "    io.masks_flows_to_seg(imgs, masks, flows, diams, f)\n",
    "\n",
    "    # save results as png\n",
    "    #io.save_to_png(imgs, masks, flows, f)"
   ]
  },
  {
   "cell_type": "code",
   "execution_count": null,
   "id": "06f16f1a-589c-405c-a797-c34fec80377a",
   "metadata": {},
   "outputs": [],
   "source": [
    "# DISPLAY RESULTS\n",
    "from cellpose import plot\n",
    "\n",
    "fig = plt.figure(figsize=(12,5))\n",
    "plot.show_segmentation(fig, imgs, masks, flows[0], channels=[0,0])\n",
    "plt.tight_layout()\n",
    "plt.show()"
   ]
  }
 ],
 "metadata": {
  "kernelspec": {
   "display_name": "Python 3.7",
   "language": "python",
   "name": "python3"
  },
  "language_info": {
   "codemirror_mode": {
    "name": "ipython",
    "version": 3
   },
   "file_extension": ".py",
   "mimetype": "text/x-python",
   "name": "python",
   "nbconvert_exporter": "python",
   "pygments_lexer": "ipython3",
   "version": "3.7.0"
  }
 },
 "nbformat": 4,
 "nbformat_minor": 5
}
