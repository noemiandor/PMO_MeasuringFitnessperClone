{
 "cells": [
  {
   "cell_type": "markdown",
   "id": "cf4e34f6-dabb-447c-bfd1-f7298df69b8c",
   "metadata": {},
   "source": [
    "# Combine fluorescence z-multi stacks image and brightfield z-multi stacks image into single ome.tiff file with 2 channel z-multi stacks image"
   ]
  },
  {
   "cell_type": "code",
   "execution_count": 15,
   "id": "b9708530-0577-47fd-8752-487223e158ba",
   "metadata": {},
   "outputs": [],
   "source": [
    "import matplotlib.pyplot as plt\n",
    "from PIL import Image\n",
    "import numpy as np\n",
    "import tifffile\n",
    "from tifffile import imread\n",
    "from matplotlib.backends.backend_pdf import PdfPages\n",
    "import glob, os, re\n",
    "\n",
    "from aicsimageio import AICSImage, imread, writers\n",
    "from skimage import color, io"
   ]
  },
  {
   "cell_type": "code",
   "execution_count": 16,
   "id": "7b99f799-93d2-4eb2-aba4-52fc22390a61",
   "metadata": {},
   "outputs": [],
   "source": [
    "# convert multistack brightfield  to ome-TIFF format \n",
    "files = glob.glob('nci-n87/brightch/*.tif')\n",
    "z_indicator = '_z(\\d\\d)'\n",
    "regex_z = re.compile(z_indicator)\n",
    "\n",
    "def sort_key(file):\n",
    "    return regex_z.search(file).group(1)\n",
    "\n",
    "files.sort(key=sort_key)\n",
    "brightfld_array = np.expand_dims(np.stack([color.rgb2gray(tifffile.imread(file)) for file in files]), axis=0) # stack all the sorted tiffiles and expand dim to create a \"channel dim\"\n",
    "# z-score normalize array.\n"
   ]
  },
  {
   "cell_type": "code",
   "execution_count": 17,
   "id": "21f707fc-f591-41a7-b64f-d15609645a7f",
   "metadata": {},
   "outputs": [],
   "source": [
    "files = glob.glob('nci-n87/*.tif')\n",
    "z_indicator = '_z(\\d\\d)'\n",
    "regex_z = re.compile(z_indicator)\n",
    "\n",
    "def sort_key(file):\n",
    "    return regex_z.search(file).group(1)\n",
    "\n",
    "files.sort(key=sort_key)\n",
    "fluroscense_array = np.expand_dims(np.stack([color.rgb2gray(tifffile.imread(file)) for file in files]), axis=0) # stack all the sorted tiffiles and expand dim to create a \"channel dim\"\n",
    "# z-score normalize array."
   ]
  },
  {
   "cell_type": "code",
   "execution_count": 18,
   "id": "9c36e52d-b988-4b08-9256-b6361383baf9",
   "metadata": {},
   "outputs": [
    {
     "name": "stdout",
     "output_type": "stream",
     "text": [
      "(2, 23, 1024, 1024)\n"
     ]
    }
   ],
   "source": [
    "Mix_ch_FB = np.concatenate((fluroscense_array, brightfld_array ), axis=0)\n",
    "print(Mix_ch_FB.shape)"
   ]
  },
  {
   "cell_type": "code",
   "execution_count": 19,
   "id": "3c9fe75b-e5c0-4bbe-98fc-0ed868c2c8a4",
   "metadata": {},
   "outputs": [],
   "source": [
    "with writers.ome_tiff_writer.OmeTiffWriter(\"nci-n87/mix_fCh_bCh_Ome.ome.tif\", overwrite_file=True) as writer:\n",
    "    writer.save(Mix_ch_FB, dimension_order=\"CZYX\", channel_names=['fluroscense','brightfield']) "
   ]
  },
  {
   "cell_type": "code",
   "execution_count": 20,
   "id": "eb14768b-85a2-4be6-b5c8-f88f95af1dc4",
   "metadata": {},
   "outputs": [
    {
     "name": "stdout",
     "output_type": "stream",
     "text": [
      "(1, 1, 2, 23, 1024, 1024)\n"
     ]
    }
   ],
   "source": [
    "Mix_image = AICSImage('nci-n87/mix_fCh_bCh_Ome.ome.tif')\n",
    "Mix = Mix_image.get_image_data()\n",
    "print(Mix.shape)"
   ]
  },
  {
   "cell_type": "markdown",
   "id": "aae672f2-5afe-474c-8173-c3eefa9d8e5e",
   "metadata": {},
   "source": [
    "# Rough_work"
   ]
  },
  {
   "cell_type": "code",
   "execution_count": 5,
   "id": "13018ba2-a77a-4cea-a2ff-84aaf75f3fae",
   "metadata": {},
   "outputs": [],
   "source": [
    "with writers.ome_tiff_writer.OmeTiffWriter(\"nci-n87/testMoffit_BCh_trial_Ome.ome.tif\", overwrite_file=True) as writer:\n",
    "    writer.save(brightfld_array, dimension_order=\"CZYX\", channel_names=['brightfield']) "
   ]
  },
  {
   "cell_type": "code",
   "execution_count": 10,
   "id": "d43dcfc4-a932-4c84-b5e6-cfbfbabdf54c",
   "metadata": {},
   "outputs": [
    {
     "name": "stdout",
     "output_type": "stream",
     "text": [
      "(1, 23, 1024, 1024)\n",
      "(3, 23, 1024, 1024)\n"
     ]
    }
   ],
   "source": [
    "print(brightfld_array.shape)\n",
    "Mix_ch_01 = np.concatenate((brightfld_array, brightfld_array ,brightfld_array), axis=0)\n",
    "#dr_array = np.expand_dims(Mix_ch_01,axis=0)\n",
    "print(Mix_ch_01.shape)"
   ]
  },
  {
   "cell_type": "code",
   "execution_count": 7,
   "id": "058570c8-56ff-42ff-939e-eed7f3724932",
   "metadata": {},
   "outputs": [],
   "source": [
    "with writers.ome_tiff_writer.OmeTiffWriter(\"nci-n87/testMoffit_BCh_Fch_01_Ome.ome.tif\", overwrite_file=True) as writer:\n",
    "    writer.save(Mix_ch_01, dimension_order=\"CZYX\", channel_names=['brightfield','brightfield','brightfield']) "
   ]
  },
  {
   "cell_type": "code",
   "execution_count": 8,
   "id": "97373274-d8cd-4a4a-85d0-b26fe254f2a5",
   "metadata": {},
   "outputs": [
    {
     "name": "stdout",
     "output_type": "stream",
     "text": [
      "(1, 1, 3, 23, 1024, 1024)\n"
     ]
    }
   ],
   "source": [
    "Mix_image = AICSImage('nci-n87/testMoffit_BCh_Fch_01_Ome.ome.tif')\n",
    "Mix = Mix_image.get_image_data()\n",
    "print(Mix.shape)"
   ]
  },
  {
   "cell_type": "code",
   "execution_count": 9,
   "id": "6a121426-c7ff-4f88-b911-5e5ced636f14",
   "metadata": {},
   "outputs": [
    {
     "data": {
      "text/plain": [
       "(1, 1, 1, 23, 1024, 1024)"
      ]
     },
     "execution_count": 9,
     "metadata": {},
     "output_type": "execute_result"
    }
   ],
   "source": [
    "_123image = AICSImage('nci-n87/testMoffit_BCh_trial_Ome.ome.tif')\n",
    "IM = _123image.get_image_data()\n",
    "IM.shape"
   ]
  },
  {
   "cell_type": "code",
   "execution_count": null,
   "id": "eeb9ac5b-bf4e-4ae8-be1b-11538cce83ca",
   "metadata": {},
   "outputs": [],
   "source": []
  },
  {
   "cell_type": "code",
   "execution_count": 3,
   "id": "953fc796-9afc-486d-8f6e-eef56709f963",
   "metadata": {},
   "outputs": [
    {
     "name": "stdout",
     "output_type": "stream",
     "text": [
      "(1, 1, 1, 23, 1024, 1024)\n",
      "(1, 1, 1, 23, 1024, 1024)\n"
     ]
    }
   ],
   "source": [
    "Fluroscence_image = AICSImage('nci-n87/testMoffitOme.ome.tif')\n",
    "Brightfield_image = AICSImage('nci-n87/testMoffit_BCh_Ome.ome.tif')\n",
    "fch2 = Fluroscence_image.get_image_data()\n",
    "bch2 = Brightfield_image.get_image_data()\n",
    "#print the shape of fluro_image and bright_image\n",
    "print(fch2.shape)\n",
    "print(bch2.shape)"
   ]
  },
  {
   "cell_type": "code",
   "execution_count": 16,
   "id": "43b9bbdf-0744-4ec4-bdfb-383bfe73c8b3",
   "metadata": {},
   "outputs": [
    {
     "data": {
      "text/plain": [
       "(2,)"
      ]
     },
     "execution_count": 16,
     "metadata": {},
     "output_type": "execute_result"
    }
   ],
   "source": [
    "BCh = np.array(Brightfield_image)\n",
    "FCh = np.array(Fluroscence_image)\n",
    "channel_array = np.stack((BCh, FCh))\n",
    "channel_array_1 =  np.expand_dims(np.stack((BCh, FCh)) , axis=0)\n",
    "channel_array.shape"
   ]
  },
  {
   "cell_type": "code",
   "execution_count": 4,
   "id": "10502b2c-6d09-49cd-ac0f-1415efdbfdf4",
   "metadata": {},
   "outputs": [
    {
     "data": {
      "text/plain": [
       "(1, 1, 3, 23, 1024, 1024)"
      ]
     },
     "execution_count": 4,
     "metadata": {},
     "output_type": "execute_result"
    }
   ],
   "source": [
    "Mix_ch = np.concatenate((fch2, bch2 ,bch2), axis=2)\n",
    "dr_array = np.expand_dims(Mix_ch,axis=0)\n",
    "Mix_ch.shape"
   ]
  },
  {
   "cell_type": "code",
   "execution_count": null,
   "id": "fd420c2d-42a7-4d58-ba4f-043cdbd1dfa0",
   "metadata": {},
   "outputs": [],
   "source": [
    "Channel:image_index:channel_index"
   ]
  },
  {
   "cell_type": "code",
   "execution_count": 5,
   "id": "68b72509-17de-43dc-ba62-ab8a14d1c961",
   "metadata": {},
   "outputs": [
    {
     "ename": "AssertionError",
     "evalue": "Expected 3, 4, or 5 dimensions in data array",
     "output_type": "error",
     "traceback": [
      "\u001b[0;31m---------------------------------------------------------------------------\u001b[0m",
      "\u001b[0;31mAssertionError\u001b[0m                            Traceback (most recent call last)",
      "\u001b[0;32m<ipython-input-5-2bab19fa0f28>\u001b[0m in \u001b[0;36m<module>\u001b[0;34m()\u001b[0m\n\u001b[1;32m      1\u001b[0m \u001b[0;32mwith\u001b[0m \u001b[0mwriters\u001b[0m\u001b[0;34m.\u001b[0m\u001b[0mome_tiff_writer\u001b[0m\u001b[0;34m.\u001b[0m\u001b[0mOmeTiffWriter\u001b[0m\u001b[0;34m(\u001b[0m\u001b[0;34m\"nci-n87/test_fbch_Ome.ome.tif\"\u001b[0m\u001b[0;34m,\u001b[0m \u001b[0moverwrite_file\u001b[0m\u001b[0;34m=\u001b[0m\u001b[0;32mTrue\u001b[0m\u001b[0;34m)\u001b[0m \u001b[0;32mas\u001b[0m \u001b[0mwriter\u001b[0m\u001b[0;34m:\u001b[0m\u001b[0;34m\u001b[0m\u001b[0m\n\u001b[0;32m----> 2\u001b[0;31m     \u001b[0mwriter\u001b[0m\u001b[0;34m.\u001b[0m\u001b[0msave\u001b[0m\u001b[0;34m(\u001b[0m\u001b[0mMix_ch\u001b[0m\u001b[0;34m,\u001b[0m \u001b[0mdimension_order\u001b[0m\u001b[0;34m=\u001b[0m\u001b[0;34m\"CZYX\"\u001b[0m\u001b[0;34m,\u001b[0m \u001b[0mchannel_names\u001b[0m\u001b[0;34m=\u001b[0m\u001b[0;34m[\u001b[0m\u001b[0;34m'brightfield'\u001b[0m\u001b[0;34m,\u001b[0m\u001b[0;34m'brightfield'\u001b[0m\u001b[0;34m,\u001b[0m\u001b[0;34m'brightfield'\u001b[0m\u001b[0;34m]\u001b[0m\u001b[0;34m)\u001b[0m\u001b[0;34m\u001b[0m\u001b[0m\n\u001b[0m",
      "\u001b[0;32m~/.local/lib/python3.7/site-packages/aicsimageio/writers/ome_tiff_writer.py\u001b[0m in \u001b[0;36msave\u001b[0;34m(self, data, ome_xml, channel_names, image_name, pixels_physical_size, channel_colors, dimension_order)\u001b[0m\n\u001b[1;32m     93\u001b[0m         \u001b[0mndims\u001b[0m \u001b[0;34m=\u001b[0m \u001b[0mlen\u001b[0m\u001b[0;34m(\u001b[0m\u001b[0mshape\u001b[0m\u001b[0;34m)\u001b[0m\u001b[0;34m\u001b[0m\u001b[0m\n\u001b[1;32m     94\u001b[0m \u001b[0;34m\u001b[0m\u001b[0m\n\u001b[0;32m---> 95\u001b[0;31m         \u001b[0;32massert\u001b[0m \u001b[0;34m(\u001b[0m\u001b[0mndims\u001b[0m \u001b[0;34m==\u001b[0m \u001b[0;36m5\u001b[0m \u001b[0;32mor\u001b[0m \u001b[0mndims\u001b[0m \u001b[0;34m==\u001b[0m \u001b[0;36m4\u001b[0m \u001b[0;32mor\u001b[0m \u001b[0mndims\u001b[0m \u001b[0;34m==\u001b[0m \u001b[0;36m3\u001b[0m\u001b[0;34m)\u001b[0m\u001b[0;34m,\u001b[0m \u001b[0;34m\"Expected 3, 4, or 5 dimensions in data array\"\u001b[0m\u001b[0;34m\u001b[0m\u001b[0m\n\u001b[0m\u001b[1;32m     96\u001b[0m \u001b[0;34m\u001b[0m\u001b[0m\n\u001b[1;32m     97\u001b[0m         \u001b[0;31m# assert valid characters in dimension_order\u001b[0m\u001b[0;34m\u001b[0m\u001b[0;34m\u001b[0m\u001b[0m\n",
      "\u001b[0;31mAssertionError\u001b[0m: Expected 3, 4, or 5 dimensions in data array"
     ]
    }
   ],
   "source": [
    "with writers.ome_tiff_writer.OmeTiffWriter(\"nci-n87/test_fbch_Ome.ome.tif\", overwrite_file=True) as writer:\n",
    "    writer.save(Mix_ch, dimension_order=\"CZYX\", channel_names=['brightfield','brightfield','brightfield'])"
   ]
  },
  {
   "cell_type": "code",
   "execution_count": 10,
   "id": "33d19275-f2e9-4a53-9ed2-5f4e084b3d27",
   "metadata": {},
   "outputs": [
    {
     "ename": "TypeError",
     "evalue": "save() got an unexpected keyword argument 'dim_order'",
     "output_type": "error",
     "traceback": [
      "\u001b[0;31m---------------------------------------------------------------------------\u001b[0m",
      "\u001b[0;31mTypeError\u001b[0m                                 Traceback (most recent call last)",
      "\u001b[0;32m<ipython-input-10-f77de0c72ca5>\u001b[0m in \u001b[0;36m<module>\u001b[0;34m()\u001b[0m\n\u001b[1;32m      7\u001b[0m     \u001b[0;34m\"file.ome.tif\"\u001b[0m\u001b[0;34m,\u001b[0m\u001b[0;34m\u001b[0m\u001b[0m\n\u001b[1;32m      8\u001b[0m     \u001b[0mdim_order\u001b[0m\u001b[0;34m=\u001b[0m\u001b[0;34m\"CZYX\"\u001b[0m\u001b[0;34m,\u001b[0m  \u001b[0;31m# this single value will be repeated to each image\u001b[0m\u001b[0;34m\u001b[0m\u001b[0m\n\u001b[0;32m----> 9\u001b[0;31m     \u001b[0mchannel_names\u001b[0m\u001b[0;34m=\u001b[0m\u001b[0;34m[\u001b[0m\u001b[0;34m[\u001b[0m\u001b[0;34m\"C00\"\u001b[0m\u001b[0;34m,\u001b[0m\u001b[0;34m\"C01\"\u001b[0m\u001b[0;34m,\u001b[0m\u001b[0;34m\"C02\"\u001b[0m\u001b[0;34m]\u001b[0m\u001b[0;34m,\u001b[0m\u001b[0;34m[\u001b[0m\u001b[0;34m\"C10\"\u001b[0m\u001b[0;34m,\u001b[0m\u001b[0;34m\"C11\"\u001b[0m\u001b[0;34m,\u001b[0m\u001b[0;34m\"C12\"\u001b[0m\u001b[0;34m]\u001b[0m\u001b[0;34m]\u001b[0m\u001b[0;34m\u001b[0m\u001b[0m\n\u001b[0m\u001b[1;32m     10\u001b[0m )\n",
      "\u001b[0;31mTypeError\u001b[0m: save() got an unexpected keyword argument 'dim_order'"
     ]
    }
   ],
   "source": [
    "image0 = np.ndarray([3, 10, 1024, 2048])\n",
    "image1 = np.ndarray([3, 10, 512, 512])\n",
    "\n",
    "with writers.ome_tiff_writer.OmeTiffWriter(\"nci-n87/test_fbc99h_Ome.ome.tif\", overwrite_file=True) as writer:\n",
    "    writer.save(\n",
    "    [image0, image1],\n",
    "    \"file.ome.tif\",\n",
    "    dim_order=\"CZYX\",  # this single value will be repeated to each image\n",
    "    channel_names=[[\"C00\",\"C01\",\"C02\"],[\"C10\",\"C11\",\"C12\"]]\n",
    ")"
   ]
  },
  {
   "cell_type": "code",
   "execution_count": 12,
   "id": "7c02662a-31e4-49a9-98c2-78a581619566",
   "metadata": {},
   "outputs": [
    {
     "ename": "NameError",
     "evalue": "name 'OmeTiffWriter' is not defined",
     "output_type": "error",
     "traceback": [
      "\u001b[0;31m---------------------------------------------------------------------------\u001b[0m",
      "\u001b[0;31mNameError\u001b[0m                                 Traceback (most recent call last)",
      "\u001b[0;32m<ipython-input-12-46626a497438>\u001b[0m in \u001b[0;36m<module>\u001b[0;34m()\u001b[0m\n\u001b[1;32m      1\u001b[0m \u001b[0mimage\u001b[0m \u001b[0;34m=\u001b[0m \u001b[0mnp\u001b[0m\u001b[0;34m.\u001b[0m\u001b[0mndarray\u001b[0m\u001b[0;34m(\u001b[0m\u001b[0;34m[\u001b[0m\u001b[0;36m10\u001b[0m\u001b[0;34m,\u001b[0m \u001b[0;36m3\u001b[0m\u001b[0;34m,\u001b[0m \u001b[0;36m1024\u001b[0m\u001b[0;34m,\u001b[0m \u001b[0;36m2048\u001b[0m\u001b[0;34m]\u001b[0m\u001b[0;34m)\u001b[0m\u001b[0;34m\u001b[0m\u001b[0m\n\u001b[0;32m----> 2\u001b[0;31m \u001b[0mOmeTiffWriter\u001b[0m\u001b[0;34m.\u001b[0m\u001b[0msave\u001b[0m\u001b[0;34m(\u001b[0m\u001b[0mimage\u001b[0m\u001b[0;34m,\u001b[0m \u001b[0;34m\"file.ome.tif\"\u001b[0m\u001b[0;34m,\u001b[0m \u001b[0mdim_order\u001b[0m\u001b[0;34m=\u001b[0m\u001b[0;34m\"ZCYX\"\u001b[0m\u001b[0;34m)\u001b[0m\u001b[0;34m\u001b[0m\u001b[0m\n\u001b[0m",
      "\u001b[0;31mNameError\u001b[0m: name 'OmeTiffWriter' is not defined"
     ]
    }
   ],
   "source": [
    "image = np.ndarray([10, 3, 1024, 2048])\n",
    "OmeTiffWriter.save(image, \"file.ome.tif\", dim_order=\"ZCYX\")"
   ]
  },
  {
   "cell_type": "code",
   "execution_count": 18,
   "id": "a0d800a7-fe9b-4083-9820-878c5a574b9e",
   "metadata": {},
   "outputs": [
    {
     "ename": "TypeError",
     "evalue": "save() got an unexpected keyword argument 'dim_order'",
     "output_type": "error",
     "traceback": [
      "\u001b[0;31m---------------------------------------------------------------------------\u001b[0m",
      "\u001b[0;31mTypeError\u001b[0m                                 Traceback (most recent call last)",
      "\u001b[0;32m<ipython-input-18-3c2cf7086a59>\u001b[0m in \u001b[0;36m<module>\u001b[0;34m()\u001b[0m\n\u001b[1;32m      3\u001b[0m \u001b[0;34m\u001b[0m\u001b[0m\n\u001b[1;32m      4\u001b[0m \u001b[0mimage0\u001b[0m \u001b[0;34m=\u001b[0m \u001b[0mnp\u001b[0m\u001b[0;34m.\u001b[0m\u001b[0mndarray\u001b[0m\u001b[0;34m(\u001b[0m\u001b[0;34m[\u001b[0m\u001b[0;36m1\u001b[0m\u001b[0;34m,\u001b[0m \u001b[0;36m3\u001b[0m\u001b[0;34m,\u001b[0m \u001b[0;36m1\u001b[0m\u001b[0;34m,\u001b[0m \u001b[0;36m256\u001b[0m\u001b[0;34m,\u001b[0m \u001b[0;36m256\u001b[0m\u001b[0;34m]\u001b[0m\u001b[0;34m)\u001b[0m\u001b[0;34m\u001b[0m\u001b[0m\n\u001b[0;32m----> 5\u001b[0;31m OmeTiffWriter.save(image0,\"file.ome.tif\",dim_order=\"TCZYX\",channel_names= None,\n\u001b[0m\u001b[1;32m      6\u001b[0m )\n",
      "\u001b[0;31mTypeError\u001b[0m: save() got an unexpected keyword argument 'dim_order'"
     ]
    }
   ],
   "source": [
    "import numpy as np\n",
    "from aicsimageio.writers import OmeTiffWriter\n",
    "\n",
    "image0 = np.ndarray([1, 3, 1, 256, 256])\n",
    "OmeTiffWriter.save(image0,\"file.ome.tif\",dim_order=\"TCZYX\",channel_names= None,\n",
    ")"
   ]
  },
  {
   "cell_type": "code",
   "execution_count": 26,
   "id": "091eef43-2833-41ea-bdfd-c3cc0dffb589",
   "metadata": {},
   "outputs": [
    {
     "ename": "TypeError",
     "evalue": "save() got an unexpected keyword argument 'dim_order'",
     "output_type": "error",
     "traceback": [
      "\u001b[0;31m---------------------------------------------------------------------------\u001b[0m",
      "\u001b[0;31mTypeError\u001b[0m                                 Traceback (most recent call last)",
      "\u001b[0;32m<ipython-input-26-2bf1f5332dbd>\u001b[0m in \u001b[0;36m<module>\u001b[0;34m()\u001b[0m\n\u001b[1;32m      4\u001b[0m \u001b[0mimage\u001b[0m \u001b[0;34m=\u001b[0m \u001b[0mnp\u001b[0m\u001b[0;34m.\u001b[0m\u001b[0mrandom\u001b[0m\u001b[0;34m.\u001b[0m\u001b[0mrand\u001b[0m\u001b[0;34m(\u001b[0m\u001b[0;36m10\u001b[0m\u001b[0;34m,\u001b[0m \u001b[0;36m3\u001b[0m\u001b[0;34m,\u001b[0m \u001b[0;36m1024\u001b[0m\u001b[0;34m,\u001b[0m \u001b[0;36m2048\u001b[0m\u001b[0;34m)\u001b[0m\u001b[0;34m\u001b[0m\u001b[0m\n\u001b[1;32m      5\u001b[0m \u001b[0;32mwith\u001b[0m \u001b[0mwriters\u001b[0m\u001b[0;34m.\u001b[0m\u001b[0mome_tiff_writer\u001b[0m\u001b[0;34m.\u001b[0m\u001b[0mOmeTiffWriter\u001b[0m\u001b[0;34m(\u001b[0m\u001b[0;34m\"nci-n87/test_fbc99h_Ome.ome.tif\"\u001b[0m\u001b[0;34m,\u001b[0m \u001b[0moverwrite_file\u001b[0m\u001b[0;34m=\u001b[0m\u001b[0;32mTrue\u001b[0m\u001b[0;34m)\u001b[0m \u001b[0;32mas\u001b[0m \u001b[0mwriter\u001b[0m\u001b[0;34m:\u001b[0m\u001b[0;34m\u001b[0m\u001b[0m\n\u001b[0;32m----> 6\u001b[0;31m     \u001b[0mOmeTiffWriter\u001b[0m\u001b[0;34m.\u001b[0m\u001b[0msave\u001b[0m\u001b[0;34m(\u001b[0m\u001b[0mimage\u001b[0m\u001b[0;34m,\u001b[0m \u001b[0;34m\"file.ome.tif\"\u001b[0m\u001b[0;34m,\u001b[0m \u001b[0mdim_order\u001b[0m\u001b[0;34m=\u001b[0m\u001b[0;34m\"ZCYX\"\u001b[0m\u001b[0;34m)\u001b[0m\u001b[0;34m\u001b[0m\u001b[0m\n\u001b[0m",
      "\u001b[0;31mTypeError\u001b[0m: save() got an unexpected keyword argument 'dim_order'"
     ]
    }
   ],
   "source": [
    "import numpy as np\n",
    "from aicsimageio.writers import OmeTiffWriter\n",
    "\n",
    "image = np.random.rand(10, 3, 1024, 2048)\n",
    "with writers.ome_tiff_writer.OmeTiffWriter(\"nci-n87/test_fbc99h_Ome.ome.tif\", overwrite_file=True) as writer:\n",
    "    OmeTiffWriter.save(image, \"file.ome.tif\", dim_order=\"ZCYX\")"
   ]
  },
  {
   "cell_type": "code",
   "execution_count": null,
   "id": "fa7ff75a-d661-4491-87fc-2ba8e3b16920",
   "metadata": {},
   "outputs": [],
   "source": []
  }
 ],
 "metadata": {
  "kernelspec": {
   "display_name": "Python 3.7",
   "language": "python",
   "name": "python3"
  },
  "language_info": {
   "codemirror_mode": {
    "name": "ipython",
    "version": 3
   },
   "file_extension": ".py",
   "mimetype": "text/x-python",
   "name": "python",
   "nbconvert_exporter": "python",
   "pygments_lexer": "ipython3",
   "version": "3.7.0"
  }
 },
 "nbformat": 4,
 "nbformat_minor": 5
}
