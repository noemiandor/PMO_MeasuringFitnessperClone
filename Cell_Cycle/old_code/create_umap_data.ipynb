{
 "cells": [
  {
   "cell_type": "code",
   "execution_count": 1,
   "metadata": {},
   "outputs": [],
   "source": [
    "import pandas as pd\n",
    "import numpy as np\n",
    "import math\n",
    "from math import ceil, floor\n",
    "from sklearn.datasets import load_digits\n",
    "import matplotlib.pyplot as plt\n",
    "import os\n",
    "from mpl_toolkits.mplot3d.art3d import Poly3DCollection\n",
    "from skimage import measure"
   ]
  },
  {
   "cell_type": "code",
   "execution_count": 4,
   "metadata": {},
   "outputs": [
    {
     "data": {
      "text/plain": [
       "(1797, 64)"
      ]
     },
     "execution_count": 4,
     "metadata": {},
     "output_type": "execute_result"
    }
   ],
   "source": [
    "# remember what digits look like\n",
    "digits = load_digits()\n",
    "digits.data.shape"
   ]
  },
  {
   "cell_type": "code",
   "execution_count": 121,
   "metadata": {},
   "outputs": [],
   "source": [
    "#convert nuclei to mnist type data\n",
    "\n",
    "class SliceGenerator():\n",
    "    def __init__(self, image_path, image_size):\n",
    "        self.image_path = image_path\n",
    "        self.image_size = image_size\n",
    "\n",
    "    def slice_image(self):\n",
    "        ex_nuc = pd.read_csv(self.image_path)\n",
    "        ex_nuc = ex_nuc.astype(float)\n",
    "\n",
    "        minx = np.min(ex_nuc[\"x\"])\n",
    "        miny = np.min(ex_nuc[\"y\"])\n",
    "\n",
    "        image_base = np.zeros((self.image_size, self.image_size))\n",
    "        x_padding = (self.image_size - (np.max(ex_nuc[\"x\"]) - np.min(ex_nuc[\"x\"])))/2\n",
    "        y_padding = (self.image_size - (np.max(ex_nuc[\"y\"]) - np.min(ex_nuc[\"y\"])))/2\n",
    "        x_left = ceil(x_padding)\n",
    "        y_left = ceil(y_padding)\n",
    "\n",
    "        ex_nuc[\"new_y\"] = ex_nuc[\"y\"] - miny + y_left\n",
    "        ex_nuc[\"new_x\"] = ex_nuc[\"x\"] - minx + x_left\n",
    "\n",
    "        image_set = []\n",
    "        for i in set(ex_nuc[\"z\"].values): #slice\n",
    "            image_base = np.zeros((self.image_size, self.image_size))\n",
    "            for row in range(0, len(ex_nuc[\"z\"])-1): #index in ex_nuc\n",
    "                if ex_nuc[\"z\"].values[row] == i: #just focussing on slice by slice\n",
    "                    if int(ex_nuc[\"new_x\"].values[row]) >= self.image_size or int(ex_nuc[\"new_y\"].values[row]) >= self.image_size:\n",
    "                        print(int(ex_nuc[\"new_x\"].values[row])-1,int(ex_nuc[\"new_y\"].values[row])-1)\n",
    "                    image_base[int(ex_nuc[\"new_x\"].values[row])-1,int(ex_nuc[\"new_y\"].values[row])-1] = 1 #0 index\n",
    "                else:\n",
    "                    pass\n",
    "            image_set.append(image_base)\n",
    "        \n",
    "        return image_set\n",
    "\n",
    "    def plot_image(self):\n",
    "        image_set = self.slice_image()\n",
    "        fig = plt.figure(figsize=(20, 20))\n",
    "        for i in range(0, len(image_set)):\n",
    "            img = image_set[i]\n",
    "            plt.subplot(6,6,i+1)\n",
    "            plt.axis(\"off\")\n",
    "            plt.imshow(img, cmap=\"gray\")\n",
    "    \n",
    "    def unravel_slices(self):\n",
    "        image_set = self.slice_image()\n",
    "        unravelled = []\n",
    "        for array in image_set:    \n",
    "            unravelled.extend(np.ravel(array))\n",
    "        \n",
    "        return unravelled\n",
    "    \n",
    "    def plot_3D(self):\n",
    "\n",
    "        image_set = self.slice_image()\n",
    "        ex = np.stack(image_set)\n",
    "\n",
    "        # Use marching cubes to obtain the surface mesh of these ellipsoids\n",
    "        verts, faces, normals, values = measure.marching_cubes_lewiner(ex, 0)\n",
    "\n",
    "        # Display resulting triangular mesh using Matplotlib. This can also be done\n",
    "        # with mayavi (see skimage.measure.marching_cubes_lewiner docstring).\n",
    "        fig = plt.figure(figsize=(10, 10))\n",
    "        ax = fig.add_subplot(111, projection='3d')\n",
    "\n",
    "        # Fancy indexing: `verts[faces]` to generate a collection of triangles\n",
    "        mesh = Poly3DCollection(verts[faces])\n",
    "        mesh.set_edgecolor('k')\n",
    "        ax.add_collection3d(mesh)\n",
    "\n",
    "\n",
    "        ax.set_xlabel(\"x-axis: a = 6 per ellipsoid\")\n",
    "        ax.set_ylabel(\"y-axis: b = 10\")\n",
    "        ax.set_zlabel(\"z-axis: c = 16\")\n",
    "\n",
    "        ax.set_xlim(0, self.image_size)  # a = 6 (times two for 2nd ellipsoid)\n",
    "        ax.set_ylim(0, self.image_size)  # b = 10\n",
    "        ax.set_zlim(0, self.image_size)  # c = 16\n",
    "\n",
    "\n",
    "        plt.tight_layout()\n",
    "        base = os.path.basename(os.path.normpath(self.image_path))\n",
    "        plt.savefig(base+\".png\")\n",
    "        plt.close(fig)"
   ]
  },
  {
   "cell_type": "code",
   "execution_count": 122,
   "metadata": {},
   "outputs": [
    {
     "name": "stderr",
     "output_type": "stream",
     "text": [
      "/var/folders/p1/99sndrn56lv71k57w35yh8n40000gn/T/ipykernel_9520/2612188475.py:61: FutureWarning: marching_cubes_lewiner is deprecated in favor of marching_cubes. marching_cubes_lewiner will be removed in version 0.19\n",
      "  verts, faces, normals, values = measure.marching_cubes_lewiner(ex, 0)\n"
     ]
    }
   ],
   "source": [
    "i = SliceGenerator(\"/Users/esthomas/Mirror/Andor_Rotation/github_repo/3D_cells/G05_multiOrganelles_Linked/0_prediction_c0.model.p_cell_1_coordinates.csv\", 50)\n",
    "i.plot_3D()"
   ]
  },
  {
   "cell_type": "code",
   "execution_count": 65,
   "metadata": {},
   "outputs": [],
   "source": [
    "# feed my data into umap and see what happens\n",
    "# I don't agree that this is the right way to do it - must lose some structure but let's see\n",
    "\n",
    "parent = \"/Users/esthomas/Mirror/Andor_Rotation/github_repo/3D_cells/G05_multiOrganelles_Linked\"\n",
    "data = []\n",
    "for filename in os.listdir(parent):\n",
    "    if \"0_prediction_c0\" in filename:\n",
    "        img = SliceGenerator(parent+\"/\"+filename, 100)\n",
    "        data.append(img.unravel_slices())\n"
   ]
  },
  {
   "cell_type": "code",
   "execution_count": 72,
   "metadata": {},
   "outputs": [],
   "source": [
    "import csv\n",
    "\n",
    "with open(\"nuclei.csv\", \"w\", newline=\"\") as f:\n",
    "    writer = csv.writer(f)\n",
    "    writer.writerows(data)"
   ]
  },
  {
   "cell_type": "code",
   "execution_count": 73,
   "metadata": {},
   "outputs": [],
   "source": [
    "import umap"
   ]
  },
  {
   "cell_type": "code",
   "execution_count": 85,
   "metadata": {},
   "outputs": [],
   "source": [
    "# make all arrays the same size - by appending zeros\n",
    "import itertools\n",
    "from pprint import pprint\n",
    "\n",
    "pad_token = 0.0\n",
    "\n",
    "padded = zip(*itertools.zip_longest(*data, fillvalue=pad_token))\n",
    "padded_data = list(padded)\n"
   ]
  },
  {
   "cell_type": "code",
   "execution_count": 86,
   "metadata": {},
   "outputs": [],
   "source": [
    "import csv\n",
    "\n",
    "with open(\"padded_nuclei.csv\", \"w\", newline=\"\") as f:\n",
    "    writer = csv.writer(f)\n",
    "    writer.writerows(padded_data)"
   ]
  },
  {
   "cell_type": "code",
   "execution_count": 87,
   "metadata": {},
   "outputs": [],
   "source": [
    "p_data = np.asarray(padded_data)"
   ]
  },
  {
   "cell_type": "code",
   "execution_count": 88,
   "metadata": {},
   "outputs": [
    {
     "data": {
      "text/plain": [
       "(819, 600000)"
      ]
     },
     "execution_count": 88,
     "metadata": {},
     "output_type": "execute_result"
    }
   ],
   "source": [
    "p_data.shape"
   ]
  },
  {
   "cell_type": "code",
   "execution_count": 89,
   "metadata": {},
   "outputs": [
    {
     "name": "stderr",
     "output_type": "stream",
     "text": [
      "OMP: Info #271: omp_set_nested routine deprecated, please use omp_set_max_active_levels instead.\n"
     ]
    }
   ],
   "source": [
    "embedding = umap.UMAP(n_neighbors=5).fit_transform(p_data)"
   ]
  },
  {
   "cell_type": "code",
   "execution_count": null,
   "metadata": {},
   "outputs": [],
   "source": [
    "fig, ax = plt.subplots(1, figsize=(14, 10))\n",
    "plt.scatter(*embedding.T, s=1, cmap='Spectral', alpha=1.0)\n",
    "plt.setp(ax, xticks=[], yticks=[])\n",
    "#cbar = plt.colorbar(boundaries=np.arange(11)-0.5)\n",
    "#cbar.set_ticks(np.arange(10))\n",
    "#cbar.set_ticklabels(classes)\n",
    "plt.title('Fashion MNIST Embedded via UMAP');"
   ]
  },
  {
   "cell_type": "code",
   "execution_count": 92,
   "metadata": {},
   "outputs": [],
   "source": [
    "embedding2 = umap.UMAP(n_neighbors=5).fit_transform(p_data)"
   ]
  },
  {
   "cell_type": "code",
   "execution_count": null,
   "metadata": {},
   "outputs": [],
   "source": [
    "fig, ax = plt.subplots(1, figsize=(14, 10))\n",
    "plt.scatter(*embedding2.T, s=1, cmap='Spectral', alpha=1.0)\n",
    "plt.setp(ax, xticks=[], yticks=[])\n",
    "#cbar = plt.colorbar(boundaries=np.arange(11)-0.5)\n",
    "#cbar.set_ticks(np.arange(10))\n",
    "#cbar.set_ticklabels(classes)\n",
    "plt.title('Fashion MNIST Embedded via UMAP');"
   ]
  },
  {
   "cell_type": "code",
   "execution_count": null,
   "metadata": {},
   "outputs": [],
   "source": [
    "from bokeh.plotting import figure, show, output_notebook\n",
    "from bokeh.models import HoverTool, ColumnDataSource, CategoricalColorMapper\n",
    "from bokeh.palettes import Spectral10\n",
    "\n",
    "output_notebook()"
   ]
  },
  {
   "cell_type": "code",
   "execution_count": 96,
   "metadata": {},
   "outputs": [],
   "source": [
    "from io import BytesIO\n",
    "from PIL import Image\n",
    "import base64"
   ]
  },
  {
   "cell_type": "code",
   "execution_count": null,
   "metadata": {},
   "outputs": [],
   "source": [
    "def embeddable_image(data):\n",
    "    img_data = 255 - 15 * data.astype(np.uint8)\n",
    "    image = Image.fromarray(img_data, mode='L').resize((64, 64), Image.BICUBIC)\n",
    "    buffer = BytesIO()\n",
    "    image.save(buffer, format='png')\n",
    "    for_encoding = buffer.getvalue()\n",
    "    return 'data:image/png;base64,' + base64.b64encode(for_encoding).decode()"
   ]
  },
  {
   "cell_type": "code",
   "execution_count": 116,
   "metadata": {},
   "outputs": [],
   "source": [
    "def embeddable_image(image_path):\n",
    "    base = os.path.basename(os.path.normpath(image_path))\n",
    "    if base+\".png\" in os.list: \n",
    "    i = SliceGenerator(image_path, 100)\n",
    "    i.plot_3D()\n",
    "    image = Image.open(base+\".png\")\n",
    "    buffer = BytesIO()\n",
    "    image.save(buffer, format='png')\n",
    "    for_encoding = buffer.getvalue()\n",
    "    return 'data:image/png;base64,' + base64.b64encode(for_encoding).decode()"
   ]
  },
  {
   "cell_type": "code",
   "execution_count": null,
   "metadata": {},
   "outputs": [],
   "source": [
    "embeddable_image(parent+\"/\"+filename)"
   ]
  },
  {
   "cell_type": "code",
   "execution_count": 119,
   "metadata": {},
   "outputs": [],
   "source": [
    "image_path_list = []\n",
    "parent = \"/Users/esthomas/Mirror/Andor_Rotation/github_repo/3D_cells/G05_multiOrganelles_Linked\"\n",
    "\n",
    "for filename in os.listdir(parent):\n",
    "    if \"0_prediction_c0\" in filename:\n",
    "        image_path_list.append(parent+\"/\"+filename)\n",
    "\n"
   ]
  },
  {
   "cell_type": "code",
   "execution_count": null,
   "metadata": {},
   "outputs": [],
   "source": [
    "digits_df = pd.DataFrame(embedding, columns=('x', 'y'))\n",
    "# digits_df['digit'] = [str(x) for x in digits.target]\n",
    "digits_df['image'] = list(map(embeddable_image, image_path_list))\n",
    "\n",
    "datasource = ColumnDataSource(digits_df)\n",
    "# color_mapping = CategoricalColorMapper(factors=[str(9 - x) for x in digits.target_names],\n",
    "                                    #    palette=Spectral10)\n",
    "\n",
    "plot_figure = figure(\n",
    "    title='UMAP projection of the Digits dataset',\n",
    "    plot_width=600,\n",
    "    plot_height=600,\n",
    "    tools=('pan, wheel_zoom, reset')\n",
    ")\n",
    "\n",
    "plot_figure.add_tools(HoverTool(tooltips=\"\"\"\n",
    "<div>\n",
    "    <div>\n",
    "        <img src='@image' style='float: left; margin: 5px 5px 5px 5px'/>\n",
    "    </div>\n",
    "    <div>\n",
    "        <span style='font-size: 16px; color: #224499'>Digit:</span>\n",
    "        <span style='font-size: 18px'>@digit</span>\n",
    "    </div>\n",
    "</div>\n",
    "\"\"\"))\n",
    "\n",
    "plot_figure.circle(\n",
    "    'x',\n",
    "    'y',\n",
    "    source=datasource,\n",
    "    # color=dict(field='digit', transform=color_mapping),\n",
    "    line_alpha=0.6,\n",
    "    fill_alpha=0.6,\n",
    "    size=4\n",
    ")\n",
    "show(plot_figure)"
   ]
  },
  {
   "cell_type": "code",
   "execution_count": null,
   "metadata": {},
   "outputs": [],
   "source": [
    "digits_df = pd.DataFrame(embedding, columns=('x', 'y'))\n",
    "# digits_df['digit'] = [str(x) for x in digits.target]\n",
    "digits_df['image'] = list(map(embeddable_image, image_path_list))\n",
    "\n",
    "datasource = ColumnDataSource(digits_df)\n",
    "# color_mapping = CategoricalColorMapper(factors=[str(9 - x) for x in digits.target_names],\n",
    "                                    #    palette=Spectral10)\n",
    "\n",
    "plot_figure = figure(\n",
    "    title='UMAP projection of the Digits dataset',\n",
    "    plot_width=600,\n",
    "    plot_height=600,\n",
    "    tools=('pan, wheel_zoom, reset')\n",
    ")\n",
    "\n",
    "plot_figure.add_tools(HoverTool(tooltips=\"\"\"\n",
    "<div>\n",
    "    <div>\n",
    "        <img src='@image' style='float: left; margin: 5px 5px 5px 5px'/>\n",
    "    </div>\n",
    "    <div>\n",
    "        <span style='font-size: 16px; color: #224499'>Digit:</span>\n",
    "        <span style='font-size: 18px'>@digit</span>\n",
    "    </div>\n",
    "</div>\n",
    "\"\"\"))\n",
    "\n",
    "plot_figure.circle(\n",
    "    'x',\n",
    "    'y',\n",
    "    source=datasource,\n",
    "    # color=dict(field='digit', transform=color_mapping),\n",
    "    line_alpha=0.6,\n",
    "    fill_alpha=0.6,\n",
    "    size=4\n",
    ")\n",
    "show(plot_figure)"
   ]
  }
 ],
 "metadata": {
  "interpreter": {
   "hash": "4985f9fdce18ec0df34e23b1994f95d0c97293d21469a78a0a038aa479bb7931"
  },
  "kernelspec": {
   "display_name": "Python 3.9.7 64-bit ('3D_env': conda)",
   "language": "python",
   "name": "python3"
  },
  "language_info": {
   "codemirror_mode": {
    "name": "ipython",
    "version": 3
   },
   "file_extension": ".py",
   "mimetype": "text/x-python",
   "name": "python",
   "nbconvert_exporter": "python",
   "pygments_lexer": "ipython3",
   "version": "3.9.7"
  },
  "orig_nbformat": 4
 },
 "nbformat": 4,
 "nbformat_minor": 2
}
