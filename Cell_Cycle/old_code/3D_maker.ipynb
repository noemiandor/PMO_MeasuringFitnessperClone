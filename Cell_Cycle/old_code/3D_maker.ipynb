{
 "cells": [
  {
   "cell_type": "code",
   "execution_count": 3,
   "metadata": {},
   "outputs": [],
   "source": [
    "# dependancies\n",
    "\n",
    "import pandas as pd\n",
    "import numpy as np\n",
    "import math\n",
    "from math import ceil, floor\n",
    "from sklearn.datasets import load_digits\n",
    "import matplotlib.pyplot as plt\n",
    "import os\n",
    "from mpl_toolkits.mplot3d.art3d import Poly3DCollection\n",
    "from skimage import measure\n",
    "import plotly.express as px\n",
    "import plotly.graph_objects as go\n",
    "import plotly.io as pio\n",
    "pio.renderers.default = \"browser\"\n",
    "import re\n"
   ]
  },
  {
   "cell_type": "code",
   "execution_count": 116,
   "metadata": {},
   "outputs": [],
   "source": [
    "# visualise all nuclei\n",
    "\n",
    "# read all nuclei coordinates into one large data frame and plot by color - assign label if possible\n",
    "\n",
    "import pandas as pd\n",
    "import glob\n",
    "\n",
    "path = r'06022022_G05_multiOrganelles_Linked' # use your path\n",
    "all_files = glob.glob(path + \"/0_prediction_c0.*.csv\")\n",
    "\n",
    "li = []\n",
    "\n",
    "for filename in all_files:\n",
    "    labels = re.split('06022022_G05_multiOrganelles_Linked/0_prediction_c0.model.p_cell_|_coordinates.csv', filename)\n",
    "    df = pd.read_csv(filename, index_col=None, header=0)\n",
    "    if df.max(numeric_only=True).max() < -3000:\n",
    "        print(df.max(numeric_only=True).max())\n",
    "    df[\"label\"] = int(labels[1])\n",
    "    li.append(df)\n",
    "\n",
    "nuclei_frame = pd.concat(li, axis=0, ignore_index=True)\n",
    "\n",
    "\n"
   ]
  },
  {
   "cell_type": "code",
   "execution_count": null,
   "metadata": {},
   "outputs": [],
   "source": [
    "fig = go.Figure(data=[go.Scatter3d(\n",
    "    x=nuclei_frame[\"x\"],\n",
    "    y=nuclei_frame[\"y\"],\n",
    "    z=nuclei_frame[\"z\"],\n",
    "    mode='markers',\n",
    "    marker=dict(\n",
    "        size=2,\n",
    "        color=nuclei_frame[\"label\"],                # set color to an array/list of desired values\n",
    "        colorscale='Viridis',\n",
    "        opacity=0.8\n",
    "    )\n",
    ")])\n",
    "\n",
    "fig.update_layout(scene_aspectmode='data')\n",
    "fig.show()\n"
   ]
  },
  {
   "cell_type": "code",
   "execution_count": 117,
   "metadata": {},
   "outputs": [
    {
     "name": "stdout",
     "output_type": "stream",
     "text": [
      "hi 819\n"
     ]
    }
   ],
   "source": [
    "# visualise all mito\n",
    "\n",
    "import pandas as pd\n",
    "import glob\n",
    "\n",
    "path = r'06022022_G05_multiOrganelles_Linked' # use your path\n",
    "all_files = glob.glob(path + \"/0_target_mito*.csv\")\n",
    "\n",
    "print(\"hi\", len(all_files))\n",
    "\n",
    "li = []\n",
    "\n",
    "for filename in all_files:\n",
    "    labels = re.split('06022022_G05_multiOrganelles_Linked/0_target_mito_cell_|_coordinates.csv', filename)\n",
    "    df = pd.read_csv(filename, index_col=None, header=0)\n",
    "    df[\"label\"] = int(labels[1])\n",
    "    li.append(df)\n",
    "\n",
    "mito_frame = pd.concat(li, axis=0, ignore_index=True)\n",
    "\n"
   ]
  },
  {
   "cell_type": "code",
   "execution_count": null,
   "metadata": {},
   "outputs": [],
   "source": [
    "fig = go.Figure(data=[go.Scatter3d(\n",
    "    x=mito_frame[\"x\"],\n",
    "    y=mito_frame[\"y\"],\n",
    "    z=mito_frame[\"z\"],\n",
    "    mode='markers',\n",
    "    marker=dict(\n",
    "        size=2,\n",
    "        color=mito_frame[\"label\"],                # set color to an array/list of desired values\n",
    "        colorscale='Viridis',\n",
    "        opacity=0.8\n",
    "    )\n",
    ")])\n",
    "\n",
    "fig.update_layout(scene_aspectmode='data')\n",
    "fig.show()"
   ]
  },
  {
   "cell_type": "code",
   "execution_count": 123,
   "metadata": {},
   "outputs": [
    {
     "name": "stdout",
     "output_type": "stream",
     "text": [
      "         y    x  z  label\n",
      "304036  49  365  0      4\n",
      "304037  50  364  0      4\n",
      "304038  46  365  1      4\n",
      "304039  46  366  1      4\n",
      "304040  47  365  1      4\n"
     ]
    }
   ],
   "source": [
    "# visualise mito and nuclei together\n",
    "\n",
    "#subset nuclei and mito <3\n",
    "\n",
    "s_nuclei_frame = nuclei_frame.loc[nuclei_frame['label'] <= 10]\n",
    "s_mito_frame = mito_frame.loc[mito_frame['label'] <= 10]\n",
    "\n",
    "print(s_nuclei_frame.head())\n",
    "\n",
    "fig = go.Figure()\n",
    "\n",
    "trace1 = go.Scatter3d(\n",
    "        x=s_nuclei_frame[\"x\"],\n",
    "        y=s_nuclei_frame[\"y\"],\n",
    "        z=s_nuclei_frame[\"z\"],\n",
    "        mode='markers',\n",
    "        marker=dict(\n",
    "            size=2,\n",
    "            color=s_nuclei_frame[\"label\"],                # set color to an array/list of desired values\n",
    "            colorscale='Turbo',\n",
    "            opacity=0.8, \n",
    "        ),\n",
    "        name = 'nuclei'\n",
    "    )\n",
    "trace2 = go.Scatter3d(\n",
    "        x=s_mito_frame[\"x\"],\n",
    "        y=s_mito_frame[\"y\"],\n",
    "        z=s_mito_frame[\"z\"],\n",
    "        mode='markers',\n",
    "        marker=dict(\n",
    "            size=2,\n",
    "            color=s_mito_frame[\"label\"],                # set color to an array/list of desired values\n",
    "            colorscale='Viridis',\n",
    "            opacity=0.8\n",
    "        ),\n",
    "        name = 'mito'\n",
    "    )\n",
    "\n",
    "fig.add_trace(trace1)\n",
    "fig.add_trace(trace2)\n",
    "\n",
    "\n",
    "fig.update_layout(scene_aspectmode='data')\n",
    "fig.show()"
   ]
  },
  {
   "cell_type": "code",
   "execution_count": null,
   "metadata": {},
   "outputs": [],
   "source": []
  },
  {
   "cell_type": "code",
   "execution_count": 8,
   "metadata": {},
   "outputs": [],
   "source": [
    "# plot all nucleus files together \n",
    "\n",
    "class SliceGenerator():\n",
    "    def __init__(self, image_path, image_size):\n",
    "        self.image_path = image_path\n",
    "        self.image_size = image_size\n",
    "\n",
    "    def slice_image(self):\n",
    "        ex_nuc = pd.read_csv(self.image_path)\n",
    "        ex_nuc = ex_nuc.astype(float)\n",
    "\n",
    "        minx = np.min(ex_nuc[\"x\"])\n",
    "        miny = np.min(ex_nuc[\"y\"])\n",
    "\n",
    "        image_base = np.zeros((self.image_size, self.image_size))\n",
    "        x_padding = (self.image_size - (np.max(ex_nuc[\"x\"]) - np.min(ex_nuc[\"x\"])))/2\n",
    "        y_padding = (self.image_size - (np.max(ex_nuc[\"y\"]) - np.min(ex_nuc[\"y\"])))/2\n",
    "        x_left = ceil(x_padding)\n",
    "        y_left = ceil(y_padding)\n",
    "\n",
    "        ex_nuc[\"new_y\"] = ex_nuc[\"y\"] - miny + y_left\n",
    "        ex_nuc[\"new_x\"] = ex_nuc[\"x\"] - minx + x_left\n",
    "\n",
    "        image_set = []\n",
    "        for i in set(ex_nuc[\"z\"].values): #slice\n",
    "            image_base = np.zeros((self.image_size, self.image_size))\n",
    "            for row in range(0, len(ex_nuc[\"z\"])-1): #index in ex_nuc\n",
    "                if ex_nuc[\"z\"].values[row] == i: #just focussing on slice by slice\n",
    "                    if int(ex_nuc[\"new_x\"].values[row]) >= self.image_size or int(ex_nuc[\"new_y\"].values[row]) >= self.image_size:\n",
    "                        print(int(ex_nuc[\"new_x\"].values[row])-1,int(ex_nuc[\"new_y\"].values[row])-1)\n",
    "                    image_base[int(ex_nuc[\"new_x\"].values[row])-1,int(ex_nuc[\"new_y\"].values[row])-1] = 1 #0 index\n",
    "                else:\n",
    "                    pass\n",
    "            image_set.append(image_base)\n",
    "        \n",
    "        return image_set\n",
    "\n",
    "    def plot_image(self):\n",
    "        image_set = self.slice_image()\n",
    "        fig = plt.figure(figsize=(20, 20))\n",
    "        for i in range(0, len(image_set)):\n",
    "            img = image_set[i]\n",
    "            plt.subplot(6,6,i+1)\n",
    "            plt.axis(\"off\")\n",
    "            plt.imshow(img, cmap=\"gray\")\n",
    "    \n",
    "    def unravel_slices(self):\n",
    "        image_set = self.slice_image()\n",
    "        unravelled = []\n",
    "        for array in image_set:    \n",
    "            unravelled.extend(np.ravel(array))\n",
    "        \n",
    "        return unravelled\n",
    "    \n",
    "    def plot_3D(self):\n",
    "\n",
    "        image_set = self.slice_image()\n",
    "        ex = np.stack(image_set)\n",
    "\n",
    "        print(ex.shape)\n",
    "\n",
    "        # Use marching cubes to obtain the surface mesh of these ellipsoids\n",
    "        verts, faces, normals, values = measure.marching_cubes_lewiner(ex, 0)\n",
    "\n",
    "        # Display resulting triangular mesh using Matplotlib. This can also be done\n",
    "        # with mayavi (see skimage.measure.marching_cubes_lewiner docstring).\n",
    "        fig = plt.figure(figsize=(10, 10))\n",
    "        ax = fig.add_subplot(111, projection='3d')\n",
    "\n",
    "        # Fancy indexing: `verts[faces]` to generate a collection of triangles\n",
    "        mesh = Poly3DCollection(verts[faces])\n",
    "        mesh.set_edgecolor('k')\n",
    "        ax.add_collection3d(mesh)\n",
    "\n",
    "\n",
    "        ax.set_xlabel(\"x-axis: a = 6 per ellipsoid\")\n",
    "        ax.set_ylabel(\"y-axis: b = 10\")\n",
    "        ax.set_zlabel(\"z-axis: c = 16\")\n",
    "\n",
    "        ax.set_xlim(0, self.image_size)  # a = 6 (times two for 2nd ellipsoid)\n",
    "        ax.set_ylim(0, self.image_size)  # b = 10\n",
    "        ax.set_zlim(0, self.image_size)  # c = 16\n",
    "\n",
    "\n",
    "        plt.tight_layout()\n",
    "        base = os.path.basename(os.path.normpath(self.image_path))\n",
    "        plt.savefig(base+\".png\")\n",
    "        plt.close(fig)"
   ]
  },
  {
   "cell_type": "code",
   "execution_count": 9,
   "metadata": {},
   "outputs": [
    {
     "name": "stdout",
     "output_type": "stream",
     "text": [
      "(68, 100, 100)\n"
     ]
    },
    {
     "name": "stderr",
     "output_type": "stream",
     "text": [
      "/var/folders/p1/99sndrn56lv71k57w35yh8n40000gn/T/ipykernel_25316/442201695.py:63: FutureWarning:\n",
      "\n",
      "marching_cubes_lewiner is deprecated in favor of marching_cubes. marching_cubes_lewiner will be removed in version 0.19\n",
      "\n"
     ]
    }
   ],
   "source": [
    "i = SliceGenerator(\"/Users/esthomas/Mirror/Andor_Rotation/github_repo/3D_cells/I05_multiOrganelles_Linked/nucleus.p_cell_1_coordinates.csv\", 100)\n",
    "i.plot_3D()"
   ]
  },
  {
   "cell_type": "code",
   "execution_count": 10,
   "metadata": {},
   "outputs": [],
   "source": [
    "from skimage import measure\n",
    "from skimage.draw import ellipsoid\n",
    "\n",
    "\n",
    "# Generate a level set about zero of two identical ellipsoids in 3D\n",
    "ellip_base = ellipsoid(6, 10, 16, levelset=True)\n",
    "ellip_double = np.concatenate((ellip_base[:-1, ...],\n",
    "                               ellip_base[2:, ...]), axis=0)"
   ]
  },
  {
   "cell_type": "code",
   "execution_count": 17,
   "metadata": {},
   "outputs": [
    {
     "data": {
      "text/plain": [
       "(23, 35)"
      ]
     },
     "execution_count": 17,
     "metadata": {},
     "output_type": "execute_result"
    }
   ],
   "source": [
    "ellip_double[15].shape"
   ]
  }
 ],
 "metadata": {
  "interpreter": {
   "hash": "4985f9fdce18ec0df34e23b1994f95d0c97293d21469a78a0a038aa479bb7931"
  },
  "kernelspec": {
   "display_name": "Python 3.9.7 64-bit ('3D_env': conda)",
   "language": "python",
   "name": "python3"
  },
  "language_info": {
   "codemirror_mode": {
    "name": "ipython",
    "version": 3
   },
   "file_extension": ".py",
   "mimetype": "text/x-python",
   "name": "python",
   "nbconvert_exporter": "python",
   "pygments_lexer": "ipython3",
   "version": "3.9.7"
  },
  "orig_nbformat": 4
 },
 "nbformat": 4,
 "nbformat_minor": 2
}
